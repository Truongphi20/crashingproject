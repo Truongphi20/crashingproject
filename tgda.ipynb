{
 "cells": [
  {
   "cell_type": "markdown",
   "metadata": {},
   "source": [
    "# <center> **RÚT NGẮN TIẾN ĐỘ DỰ ÁN** </center><font size=\"3\"><center>Crashing Project</center></font>\n",
    "## Lý thuyết\n",
    "- Việc rút ngắn dự án luôn luôn phải đánh đổi bới chi phí.\n",
    "- Vấn đề đặt ra : Làm thế nào rút ngắn tiến độ với chi phí tăng lên là nhỏ nhất.\n",
    "- Cách giải: Phải rút ngắn tối đa thời gian của các dự án nằm trên đường găng và giữ nguyên tối đa các dự án không nằm trên đường Gantt\n",
    "- Tham khảo: [Youtube](https://www.youtube.com/watch?v=qNSTP88FHWA) \n",
    "\n",
    "## Bảng ví dụ:\n",
    "<table style=\"text-align:center\" solid black>\n",
    "  <tr style=\"font-weight:bold\">\n",
    "    <td rowspan = 2>Công việc</td>\n",
    "    <td rowspan = 2> Công tác trước</td>\n",
    "    <td colspan = 2> Thời gian (Tuần) </td>\n",
    "    <td colspan = 2> Chi phí ($) </td>\n",
    "  </tr>\n",
    "  <tr style=\"font-weight:bold\">\n",
    "    <td> B.thường </td>\n",
    "    <td> Rút ngắn </td>\n",
    "    <td> B.thường </td>\n",
    "    <td> Rút ngắn </td>\n",
    "  </tr>\n",
    "  <tr>\n",
    "    <td>A</td>\n",
    "    <td>-</td>\n",
    "    <td>2</td>\n",
    "    <td>1</td>\n",
    "    <td>22.000</td>\n",
    "    <td>23.000</td>\n",
    "  </tr>\n",
    "  <tr>\n",
    "    <td>B</td>\n",
    "    <td>-</td>\n",
    "    <td>3</td>\n",
    "    <td>1</td>\n",
    "    <td>30.000</td>\n",
    "    <td>34.000</td>\n",
    "  </tr>\n",
    "  <tr>\n",
    "    <td>C</td>\n",
    "    <td>A</td>\n",
    "    <td>2</td>\n",
    "    <td>1</td>\n",
    "    <td>26.000</td>\n",
    "    <td>27.000</td>\n",
    "  </tr>\n",
    "  <tr>\n",
    "    <td>D</td>\n",
    "    <td>B</td>\n",
    "    <td>4</td>\n",
    "    <td>3</td>\n",
    "    <td>48.000</td>\n",
    "    <td>49.000</td>\n",
    "  </tr>\n",
    "  <tr>\n",
    "    <td>E</td>\n",
    "    <td>C</td>\n",
    "    <td>4</td>\n",
    "    <td>2</td>\n",
    "    <td>56.000</td>\n",
    "    <td>58.000</td>\n",
    "  </tr>\n",
    "  <tr>\n",
    "    <td>F</td>\n",
    "    <td>C</td>\n",
    "    <td>3</td>\n",
    "    <td>2</td>\n",
    "    <td>30.000</td>\n",
    "    <td>30.500</td>\n",
    "  </tr>\n",
    "  <tr>\n",
    "    <td>G</td>\n",
    "    <td>D,E</td>\n",
    "    <td>5</td>\n",
    "    <td>2</td>\n",
    "    <td>80.000</td>\n",
    "    <td>86.000</td>\n",
    "  </tr>\n",
    "  <tr>\n",
    "    <td>H</td>\n",
    "    <td>F,G</td>\n",
    "    <td>2</td>\n",
    "    <td>1</td>\n",
    "    <td>16.000</td>\n",
    "    <td>19.000</td>\n",
    "  </tr>\n",
    "  <tr>\n",
    "    <td colspan = 4 >Tổng chi phí</td>\n",
    "    <td><b>308.000</b></td>\n",
    "    <td></td>\n",
    "  </tr>\n",
    "</table>"
   ]
  },
  {
   "cell_type": "code",
   "execution_count": 1,
   "metadata": {},
   "outputs": [],
   "source": [
    "import pandas as pd\n",
    "bang1 = pd.read_csv(\"bangvd.csv\")\n",
    "#print(bang1)"
   ]
  },
  {
   "cell_type": "markdown",
   "metadata": {},
   "source": [
    "## Cách giải\n",
    "### Bước 1: Tính chi phí rút ngắn đơn vị và thời gian được phép rút ngắn"
   ]
  },
  {
   "cell_type": "markdown",
   "metadata": {},
   "source": [
    "<blockquote class=\"green\">\n",
    "\n",
    "$\\text{Thời gian rút ngắn đơn vị} = \\text{Thời gian bình thường} - \\text{Thời gian rút ngắn}$\n",
    "\n",
    "$\\text{Chi phí rút ngắn đơn vị} = \\frac{\\text{Chi phí bình thường} - \\text{Chi phí rút ngắn}}{\\text{Thời gian rút ngắn đơn vị}}$\n",
    "\n",
    "</blockquote>"
   ]
  },
  {
   "cell_type": "code",
   "execution_count": 2,
   "metadata": {},
   "outputs": [
    {
     "name": "stdout",
     "output_type": "stream",
     "text": [
      "  Tên dự án  Tg có thể rút ngắn (tuần)  Cp rút ngắn đơn vị ($)\n",
      "0         A                          1                  1000.0\n",
      "1         B                          2                  2000.0\n",
      "2         C                          1                  1000.0\n",
      "3         D                          1                  1000.0\n",
      "4         E                          2                  1000.0\n",
      "5         F                          1                   500.0\n",
      "6         G                          3                  2000.0\n",
      "7         H                          1                  3000.0\n"
     ]
    }
   ],
   "source": [
    "## Khai bao du lieu\n",
    "tenda = list(bang1.iloc[:,0]) # Tên dự án\n",
    "#print(\"Tên dự án: \" + str(tenda))\n",
    "\n",
    "cost1 = list(bang1.iloc[:,-2]) # Chi phí bình thường\n",
    "#print(cost1)\n",
    "cost2 = list(bang1.iloc[:,-1]) # Chi phí rút ngắn\n",
    "#print(cost2)\n",
    "\n",
    "tg1 = list(bang1.iloc[:,-4]) # Thời gian bình thường\n",
    "#print(tg1)\n",
    "tg2 = list(bang1.iloc[:,-3]) # Thời gian rút ngắn\n",
    "#print(tg2)\n",
    "\n",
    "## Tính thời gian rút ngắn đơn vị\n",
    "tg_dv = [tg1[i]-tg2[i] for i in range(len(tg1))]\n",
    "#print(\"Thời gian rút ngắn: \" + str(tg_dv))\n",
    "\n",
    "## Tính chi phí rút ngắn đơn vị\n",
    "cost_dv = [(cost2[i]-cost1[i])*1000/tg_dv[i] for i in range(len(cost1))]\n",
    "#print(\"Chi phí rút ngắn: \" + str(cost_dv))\n",
    "\n",
    "data_need = pd.DataFrame(list(zip(tenda,tg_dv,cost_dv)), columns = [\"Tên dự án\",\"Tg có thể rút ngắn (tuần)\",\"Cp rút ngắn đơn vị ($)\"])\n",
    "print(data_need) # Xuat ket qua"
   ]
  },
  {
   "cell_type": "markdown",
   "metadata": {},
   "source": [
    "### Bước 2: Vẽ Critical Path (sơ đồ mạng AON)"
   ]
  },
  {
   "cell_type": "markdown",
   "metadata": {},
   "source": [
    "Đầu tiên ta thêm các vector để vẽ path theo tuần tự:\n",
    "- Vector chứa điểm start: Lọc các điểm mà công tác trước là \"-\"\n",
    "- Vector trung gian: Lọc các điểm mà công tác trước khác \"-\" và có độ dài ký tự là 1\n",
    "- Vector chứa điểm cuối: Lọc các điểm mà không có mặt trong cột công tác trước"
   ]
  },
  {
   "cell_type": "code",
   "execution_count": 3,
   "metadata": {},
   "outputs": [
    {
     "name": "stdout",
     "output_type": "stream",
     "text": [
      "[['Start', 'A'], ['Start', 'B'], ['A', 'C'], ['B', 'D'], ['C', 'E'], ['C', 'F'], ['D', 'G'], ['E', 'G'], ['F', 'H'], ['G', 'H'], ['H', 'End']]\n"
     ]
    }
   ],
   "source": [
    "pretenda = list(bang1.iloc[:,1]) # Tên dự án liền trước\n",
    "#print(pretenda)\n",
    "\n",
    "Start_point = [i for i in tenda if pretenda[tenda.index(i)] == '-'] #Tìm start point\n",
    "#print(Start_point)\n",
    "\n",
    "# Liệt kê các vector:\n",
    "##Thêm vector start point\n",
    "vector = [[\"Start\",i] for i in Start_point] \n",
    "#print(vector)\n",
    "\n",
    "##Thêm vector trung gian\n",
    "for i in range(len(pretenda)): \n",
    "    if pretenda[i] != \"-\" and len(pretenda[i]) == 1:\n",
    "        vector.append([pretenda[i],tenda[i]])\n",
    "    elif len(pretenda[i]) > 1:\n",
    "        Stats = pretenda[i].split(\",\")\n",
    "        for k in range(len(Stats)):\n",
    "            vector.append([Stats[k],tenda[i]]) \n",
    "#print(vector)\n",
    "\n",
    "##Tìm end point\n",
    "End_point = []\n",
    "for i in range(len(tenda)):\n",
    "    a = 0\n",
    "    for k in range(len(pretenda)):\n",
    "        if tenda[i] in pretenda[k]:\n",
    "            a += 1\n",
    "    if a == 0:\n",
    "        End_point.append(tenda[i])\n",
    "#print(End_point)\n",
    "\n",
    "vector.extend([[i,'End'] for i in End_point])\n",
    "print(vector)"
   ]
  },
  {
   "cell_type": "markdown",
   "metadata": {},
   "source": [
    "Sau khi đã có danh sách các vector, ta dùng [networkx](https://networkx.org/) để tiến hành vẽ sơ đồ AON. Mục đích vẽ nhằm xác định các con đường."
   ]
  },
  {
   "cell_type": "code",
   "execution_count": 4,
   "metadata": {},
   "outputs": [
    {
     "data": {
      "image/png": "[encoded data removed]",
      "text/plain": [
       "<Figure size 432x288 with 1 Axes>"
      ]
     },
     "metadata": {},
     "output_type": "display_data"
    }
   ],
   "source": [
    "import networkx as nx\n",
    "import matplotlib.pyplot as plt\n",
    "\n",
    "G = nx.DiGraph()\n",
    "\n",
    "G.add_edges_from(vector)\n",
    "\n",
    "nx.draw(G, with_labels=True)\n",
    "plt.show()"
   ]
  },
  {
   "cell_type": "markdown",
   "metadata": {},
   "source": [
    "### Bước 3: Liệt kê các con đường"
   ]
  },
  {
   "cell_type": "code",
   "execution_count": 5,
   "metadata": {},
   "outputs": [
    {
     "name": "stdout",
     "output_type": "stream",
     "text": [
      "[['Start', 'A', 'C', 'E', 'G', 'H', 'End'], ['Start', 'A', 'C', 'F', 'H', 'End'], ['Start', 'B', 'D', 'G', 'H', 'End']]\n"
     ]
    }
   ],
   "source": [
    "#Xuất ra các con đường\n",
    "def all_paths(G):\n",
    "    roots = (v for v, d in G.in_degree() if d == 0)\n",
    "    leaves = [v for v, d in G.out_degree() if d == 0]\n",
    "    all_paths = []\n",
    "    for root in roots:\n",
    "        paths = nx.all_simple_paths(G, root, leaves)\n",
    "        all_paths.extend(paths)\n",
    "    return all_paths\n",
    "\n",
    "paths = all_paths(G)\n",
    "print(paths)\n",
    "\n",
    "number_path = len(paths)\n"
   ]
  },
  {
   "cell_type": "markdown",
   "metadata": {},
   "source": [
    "Từ các đường đi, tiến hành xác định [đường Gantt](https://vietnambiz.vn/so-do-gantt-gantt-chart-la-gi-cach-lap-so-do-gantt-20190812095641859.htm) là đường mà có **thời gian hoàn thành dự án** là lớn nhất.  "
   ]
  },
  {
   "cell_type": "code",
   "execution_count": 6,
   "metadata": {},
   "outputs": [
    {
     "name": "stdout",
     "output_type": "stream",
     "text": [
      "Thời gian hoàn thành: [15, 9, 14]\n",
      "Đường Gantt là đường số 1\n"
     ]
    }
   ],
   "source": [
    "def Tim_gantt(paths,tenda,tg1): # Rà thời gian thực hiện dự án của các con đường \n",
    "    g_list = []\n",
    "    for i in range(len(paths)):\n",
    "        g_val = []\n",
    "        for k in range(1,len(paths[i])-1):\n",
    "            for j in range(len(tenda)):\n",
    "                if tenda[j] == paths[i][k]:\n",
    "                    g_val.append(tg1[j])\n",
    "        g_list.append(g_val)\n",
    "    return g_list\n",
    "\n",
    "def Gantt(paths,tenda,tg1): # Trả về số thứ tự của đường găng\n",
    "    g_list = Tim_gantt(paths,tenda,tg1)\n",
    "    #print(g_list)\n",
    "\n",
    "    g_val_list = [sum(i) for i in g_list]\n",
    "    print(\"Thời gian hoàn thành: \"+ str(g_val_list))\n",
    "\n",
    "    max_tg = max(g_val_list)\n",
    "    #print(max_tg)\n",
    "\n",
    "    Gantt = [g_val_list.index(max_tg)]\n",
    "    return Gantt\n",
    "\n",
    "\n",
    "Gantt = Gantt(paths,tenda,tg1)\n",
    "print(\"Đường Gantt là đường số \" + str(Gantt[0]+1))\n",
    "   "
   ]
  },
  {
   "cell_type": "markdown",
   "metadata": {},
   "source": [
    "### Bước 4: Xét các trường hợp đường Gantt\n",
    "Xét các trường hợp giả sử sau quá trình rút ngắn từng đường là đường Gantt. Khi đó các dự án nằm trên sẽ được giảm tối thiểu và các dự án không nằm trên đường Gantt phải được giữ nguyên tối đa.\n",
    "> <u>`Các điều kiện ràng buộc:`</u>\n",
    "> - Thời gian rút ngắn phải nằm trong phạm vị cho phép (đề cho)\n",
    "> - Thời gian hoàn thành sau rút ngắn của các đường không Gantt phải bé hơn hoặc bằng đường Gantt\n",
    "> - Thời gian rút ở đường Gantt phải tối đa\n",
    "> - Chi phí rút ngắn phải tối thiểu"
   ]
  },
  {
   "cell_type": "code",
   "execution_count": 7,
   "metadata": {},
   "outputs": [
    {
     "name": "stdout",
     "output_type": "stream",
     "text": [
      "  Tên dự án  Tg có thể rút ngắn (tuần)  Cp rút ngắn đơn vị ($)\n",
      "0         A                          1                  1000.0\n",
      "1         B                          2                  2000.0\n",
      "2         C                          1                  1000.0\n",
      "3         D                          1                  1000.0\n",
      "4         E                          2                  1000.0\n",
      "5         F                          1                   500.0\n",
      "6         G                          3                  2000.0\n",
      "7         H                          1                  3000.0\n"
     ]
    }
   ],
   "source": [
    "print(data_need)"
   ]
  },
  {
   "cell_type": "markdown",
   "metadata": {},
   "source": [
    "\n",
    "#### <u>Trường hợp 1: Đường thứ nhất là đường Gantt</u> "
   ]
  },
  {
   "cell_type": "code",
   "execution_count": 8,
   "metadata": {},
   "outputs": [
    {
     "name": "stdout",
     "output_type": "stream",
     "text": [
      "Đường thứ nhất: ['Start', 'A', 'C', 'E', 'G', 'H', 'End']\n"
     ]
    }
   ],
   "source": [
    "print(\"Đường thứ nhất: \"+str(paths[0]))"
   ]
  },
  {
   "cell_type": "markdown",
   "metadata": {},
   "source": [
    "Đầu tiên khai báo các biến là các số ngày giảm ở các công việc. Sau đó thiết lập và giải hệ bất phương trình nhằm tìm các hiệu số thời gian giảm thỏa mãn điều kiện đề bài. "
   ]
  },
  {
   "cell_type": "code",
   "execution_count": 9,
   "metadata": {},
   "outputs": [
    {
     "name": "stdout",
     "output_type": "stream",
     "text": [
      "[[0, 0, 0, 0, 0, 0, 0, 0]]\n",
      "[[0, 0, 0, 0, 0, 0, 0, 0], [1, 0, 0, 0, 0, 0, 0, 0], [0, 1, 0, 0, 0, 0, 0, 0], [1, 1, 0, 0, 0, 0, 0, 0], [0, 2, 0, 0, 0, 0, 0, 0], [1, 2, 0, 0, 0, 0, 0, 0], [0, 0, 1, 0, 0, 0, 0, 0], [0, 1, 1, 0, 0, 0, 0, 0], [1, 1, 1, 0, 0, 0, 0, 0], [0, 2, 1, 0, 0, 0, 0, 0]]\n"
     ]
    }
   ],
   "source": [
    "import sys\n",
    "sys.path.insert(0, 'C:/Users/Truong Phi/OneDrive/Máy tính/QLDA/quick/crashing_time/solveinequal')\n",
    "from sinequal import *\n",
    "\n",
    "biens = [\"a\",\"b\",\"c\",\"d\",\"e\",\"f\",\"g\",\"h\"] #Đặt ẩn là hiệu số thời gian của các công việc theo thứ tụ\n",
    "\n",
    "he_bpt = [\n",
    "    # Các hiệu số phải lớn hơn hoặc bằng 0\n",
    "    \"a>=0\",\"b>=0\",\"c>=0\",\"d>=0\",\n",
    "    \"e>=0\",\"f>=0\",\"g>=0\",\"h>=0\",\n",
    "    # Thời gian rút ngắn phải nằm trong phạm vi đề bài cho\n",
    "    \"a<=1\",\"b<=2\",\"c<=1\",\"d<=1\",\n",
    "    \"e<=2\",\"f<=1\",\"g<=3\",\"h<=1\",\n",
    "    # Thời gian hoàn thành sau rút ngắn của các đường không Gantt phải bé hơn hoặc bằng đường Gantt\n",
    "    \"-e-g+f>=-6\",\"-a-c-e+b+d>=-1\"\n",
    "]\n",
    "#print(giaihebpt(he_bpt,biens))\n",
    "hs_cp = giaihebpt(he_bpt,biens) #Hệ số chi phí\n",
    "print(hs_cp[:10:]) #Xem 10 kết quả đầu tiên"
   ]
  },
  {
   "cell_type": "markdown",
   "metadata": {},
   "source": [
    "Sau khi đã có hệ số chi phí tiến hành tính chi phí rút ngắn nhằm tìm ra chi phí rút ngắn tối thiểu và thời gian rút ngắn đường Gantt."
   ]
  },
  {
   "cell_type": "code",
   "execution_count": 10,
   "metadata": {},
   "outputs": [
    {
     "data": {
      "image/png": "[encoded data removed]",
      "text/plain": [
       "<Figure size 432x288 with 1 Axes>"
      ]
     },
     "metadata": {
      "needs_background": "light"
     },
     "output_type": "display_data"
    }
   ],
   "source": [
    "def cp_rutz(hs_cp,cost_dv): #Tính chi phí rút ngắn của các trường hợp rút ngắn\n",
    "    cp_rut = []\n",
    "    for i in range(len(hs_cp)):\n",
    "        a = 0\n",
    "        for k in range(len(cost_dv)):\n",
    "            a += hs_cp[i][k]*cost_dv[k]\n",
    "        cp_rut.append(a)\n",
    "    return cp_rut\n",
    "cp_rut = cp_rutz(hs_cp,cost_dv)     \n",
    "#print(cp_rut[:10:])\n",
    "\n",
    "def tg_rutz(hs_cp,lum): #Tính thời gian rút ngắn của các trường hợp rút ngắn\n",
    "    tg_rut = []\n",
    "    for i in range(len(hs_cp)):\n",
    "        a = 0\n",
    "        for k in lum:\n",
    "            a += hs_cp[i][k]\n",
    "        tg_rut.append(a)\n",
    "    return tg_rut\n",
    "\n",
    "#Tính thời gian trên đường Gantt chính là thời gian rút gọn\n",
    "lum1 = [0,2,4,6,7] #Thứ tự của đường Gantt ['Start', 'A', 'C', 'E', 'G', 'H', 'End'] theo thứ tự A,B,C,D,E,F,G,H \n",
    "tg_rut = tg_rutz(hs_cp,lum1)\n",
    "#print(tg_rut[:10:])\n",
    "\n",
    "# Vẽ đồ thị dotplot để khảo sát mối tương quan\n",
    "import matplotlib.pyplot as plt\n",
    "plt.title(\"Mối tương quan thời gian và chi phí\")\n",
    "plt.scatter(tg_rut,cp_rut)\n",
    "plt.xlabel(\"Tuần\")\n",
    "plt.ylabel(\"$\")\n",
    "plt.grid()\n",
    "plt.show()"
   ]
  },
  {
   "cell_type": "markdown",
   "metadata": {},
   "source": [
    "Từ đồ thị trên ta thấy rằng các điểm tối ưu là các điểm mà chi phí thấp nhất tại các mốc thời gian. Từ đó ta sẽ lọc ra các điểm tối ưu này bằng cách tìm các giá trị min của chi phí tại các mốc thời gian. "
   ]
  },
  {
   "cell_type": "code",
   "execution_count": 11,
   "metadata": {},
   "outputs": [
    {
     "name": "stdout",
     "output_type": "stream",
     "text": [
      "Chi phí min: [0.0, 1000.0, 3000.0, 5000.0, 7000.0, 9000.0, 12000.0, 15000.0, 18000.0]\n"
     ]
    }
   ],
   "source": [
    "tg_list = list(range(min(tg_rut),max(tg_rut)+1))\n",
    "#print(tg_list)\n",
    "\n",
    "def FindMin(tg_list,tg_rut,cp_rut):\n",
    "    rs = []\n",
    "    for j in range(len(tg_list)):\n",
    "        index = [] #index của mốc thời gian\n",
    "        for i in range(len(tg_rut)):\n",
    "            if tg_rut[i] == tg_list[j]:\n",
    "                index.append(i)\n",
    "        #print(index)\n",
    "\n",
    "        cp = [cp_rut[i] for i in index] # Chi phí của các index tương ứng\n",
    "        #print(cp)\n",
    "\n",
    "        cp_min = min(cp)\n",
    "        #print(cp_min)\n",
    "\n",
    "        #Index của chi phí min\n",
    "        index_min = index[cp.index(cp_min)]\n",
    "        #print(index_min)\n",
    "        rs.append([index_min,cp_min])\n",
    "    return rs\n",
    "\n",
    "cp_min_list = FindMin(tg_list,tg_rut,cp_rut) #List [index của hs_cp, chi phí min]\n",
    "#print(cp_min_list)\n",
    "\n",
    "cp_min = [cp_min_list[i][1] for i in range(len(cp_min_list))] # Trích xuất chi phí min từ list trên\n",
    "print(\"Chi phí min: \"+str(cp_min))"
   ]
  },
  {
   "cell_type": "markdown",
   "metadata": {},
   "source": [
    "Khi đã có các giá trị chi phí tối thiểu, cần xác định xem chúng xuất hiện duy nhất một lần hay có lặp lại."
   ]
  },
  {
   "cell_type": "code",
   "execution_count": 12,
   "metadata": {},
   "outputs": [
    {
     "name": "stdout",
     "output_type": "stream",
     "text": [
      "Số lần lặp của giá trị min: [1, 3, 7, 7, 7, 4, 7, 4, 1]\n"
     ]
    }
   ],
   "source": [
    "def TruyXuat(cp_val,tg_val,cp_rut,tg_rut): #Truy xuất index của mức phí và thời gian\n",
    "    index1 = []\n",
    "    for i in range(len(cp_rut)):\n",
    "        if cp_rut[i] == cp_val:\n",
    "            index1.append(i)\n",
    "    \n",
    "    index2 = []\n",
    "    for k in index1:\n",
    "        if tg_rut[k] == tg_val:\n",
    "            index2.append(k)\n",
    "    return index2\n",
    "\n",
    "dem = [] # Đếm xem mỗi trường hợp min xuất hiện bao nhiêu lần trong mốc thời gian của nó\n",
    "index_min_lap = [] # Index của các lần lặp\n",
    "for i in range(len(cp_min)): \n",
    "    index_min_lap.append(TruyXuat(cp_min[i],i,cp_rut,tg_rut))\n",
    "    dem.append(len(TruyXuat(cp_min[i],i,cp_rut,tg_rut)))\n",
    "\n",
    "print(\"Số lần lặp của giá trị min: \"+str(dem))\n",
    "\n",
    "index_min_lapstr = [list(map(str,i)) for i in index_min_lap] #Chuyển list of list int sang list of list string\n",
    "#print(index_min_lapstr)\n",
    "\n",
    "index_min_laps = [\",\".join(i) for i in index_min_lapstr] #Chuyển list string thành các string\n",
    "#print(\"Index tương ứng: \"+str(index_min_laps))"
   ]
  },
  {
   "cell_type": "code",
   "execution_count": 13,
   "metadata": {},
   "outputs": [
    {
     "data": {
      "image/png": "[encoded data removed]",
      "text/plain": [
       "<Figure size 432x288 with 1 Axes>"
      ]
     },
     "metadata": {
      "needs_background": "light"
     },
     "output_type": "display_data"
    },
    {
     "name": "stdout",
     "output_type": "stream",
     "text": [
      "   Thời gian rút ngắn (tuần)  Chi phí rút ngắn ($)  Số cách rút ngắn\n",
      "0                          0                   0.0                 1\n",
      "1                          1                1000.0                 3\n",
      "2                          2                3000.0                 7\n",
      "3                          3                5000.0                 7\n",
      "4                          4                7000.0                 7\n",
      "5                          5                9000.0                 4\n",
      "6                          6               12000.0                 7\n",
      "7                          7               15000.0                 4\n",
      "8                          8               18000.0                 1\n"
     ]
    }
   ],
   "source": [
    "index_min = [cp_min_list[i][0] for i in range(len(cp_min_list))] # Trích xuất index của chi phí min từ list trên\n",
    "#print(index_min)\n",
    "\n",
    "#Thực hiện vẽ lại đồ thị với chi phí đã lọc\n",
    "plt.title(\"Mối tương quan thời gian và chi phí\")\n",
    "plt.scatter(tg_list,cp_min)\n",
    "plt.xlabel(\"Tuần\")\n",
    "plt.ylabel(\"$\")\n",
    "plt.show()\n",
    "\n",
    "#Xuất bảng giá trị thời gian rút gọn và chi phí tối thiểu\n",
    "data_gantt1 = pd.DataFrame(list(zip(tg_list,cp_min,dem)),columns=[\"Thời gian rút ngắn (tuần)\",\"Chi phí rút ngắn ($)\",\"Số cách rút ngắn\"])\n",
    "print(data_gantt1)"
   ]
  },
  {
   "cell_type": "markdown",
   "metadata": {},
   "source": [
    "#### Trường hợp 2: Đường thứ hai là đường Gantt\n",
    "> `Cũng tương tự như trường hợp một, thực hiện các quá trình:`\n",
    "> - Giải hệ bất phương trình để tìm hiệu số thời gian\n",
    "> - Tính chi phí rút ngắn và thời gian rút ngắn cho cho từng trường hợp\n",
    "> - Lọc ra chi phí min ứng với các mốc thời gian tương ứng"
   ]
  },
  {
   "cell_type": "markdown",
   "metadata": {},
   "source": [
    "<u>*Giải hệ bất phương trình*</u>"
   ]
  },
  {
   "cell_type": "code",
   "execution_count": 14,
   "metadata": {},
   "outputs": [
    {
     "name": "stdout",
     "output_type": "stream",
     "text": [
      "[]\n"
     ]
    }
   ],
   "source": [
    "biens = [\"a\",\"b\",\"c\",\"d\",\"e\",\"f\",\"g\",\"h\"] #Đặt ẩn là hiệu số thời gian của các công việc theo thứ tụ\n",
    "\n",
    "he_bpt = [\n",
    "    # Các hiệu số phải lớn hơn hoặc bằng 0\n",
    "    \"a>=0\",\"b>=0\",\"c>=0\",\"d>=0\",\n",
    "    \"e>=0\",\"f>=0\",\"g>=0\",\"h>=0\",\n",
    "    # Thời gian rút ngắn phải nằm trong phạm vi đề bài cho\n",
    "    \"a<=1\",\"b<=2\",\"c<=1\",\"d<=1\",\n",
    "    \"e<=2\",\"f<=1\",\"g<=3\",\"h<=1\",\n",
    "    # Thời gian hoàn thành sau rút ngắn của các đường không Gantt phải bé hơn hoặc bằng đường Gantt\n",
    "    \"-e-g+f<=-6\",\"-a-c-f+b+d+g>=5\"\n",
    "]\n",
    "#print(giaihebpt(he_bpt,biens))\n",
    "hs_cp1 = giaihebpt(he_bpt,biens) #Hệ số chi phí\n",
    "print(hs_cp1[:10:]) #Xem 10 kết quả đầu tiên"
   ]
  },
  {
   "cell_type": "markdown",
   "metadata": {},
   "source": [
    "Kết quả giải bất phương trình cho thấy rỗng, vậy khả năng đường thứ 2 là đường Gantt là không thể xảy ra."
   ]
  },
  {
   "cell_type": "markdown",
   "metadata": {},
   "source": [
    "#### Trường hợp 3: Đường thứ ba là đường Gantt\n",
    "<u>*Giải hệ bất phương trình*</u>"
   ]
  },
  {
   "cell_type": "code",
   "execution_count": 15,
   "metadata": {},
   "outputs": [
    {
     "name": "stdout",
     "output_type": "stream",
     "text": [
      "[[1, 0, 0, 0, 0, 0, 0, 0], [0, 0, 1, 0, 0, 0, 0, 0], [1, 0, 1, 0, 0, 0, 0, 0], [1, 1, 1, 0, 0, 0, 0, 0], [1, 0, 1, 1, 0, 0, 0, 0], [0, 0, 0, 0, 1, 0, 0, 0], [1, 0, 0, 0, 1, 0, 0, 0], [1, 1, 0, 0, 1, 0, 0, 0], [0, 0, 1, 0, 1, 0, 0, 0], [1, 0, 1, 0, 1, 0, 0, 0]]\n"
     ]
    }
   ],
   "source": [
    "biens = [\"a\",\"b\",\"c\",\"d\",\"e\",\"f\",\"g\",\"h\"] #Đặt ẩn là hiệu số thời gian của các công việc theo thứ tụ\n",
    "\n",
    "he_bpt = [\n",
    "    # Các hiệu số phải lớn hơn hoặc bằng 0\n",
    "    \"a>=0\",\"b>=0\",\"c>=0\",\"d>=0\",\n",
    "    \"e>=0\",\"f>=0\",\"g>=0\",\"h>=0\",\n",
    "    # Thời gian rút ngắn phải nằm trong phạm vi đề bài cho\n",
    "    \"a<=1\",\"b<=2\",\"c<=1\",\"d<=1\",\n",
    "    \"e<=2\",\"f<=1\",\"g<=3\",\"h<=1\",\n",
    "    # Thời gian hoàn thành sau rút ngắn của các đường không Gantt phải bé hơn hoặc bằng đường Gantt\n",
    "    \"-b-d+a+c+e>=1\",\"-a-c-f+b+d+g<=5\"\n",
    "]\n",
    "#print(giaihebpt(he_bpt,biens))\n",
    "hs_cp2 = giaihebpt(he_bpt,biens) #Hệ số chi phí\n",
    "print(hs_cp2[:10:]) #Xem 10 kết quả đầu tiên"
   ]
  },
  {
   "cell_type": "markdown",
   "metadata": {},
   "source": [
    "<u>*Tính chi phí rút ngắn và thời gian rút ngắn*</u>"
   ]
  },
  {
   "cell_type": "code",
   "execution_count": 16,
   "metadata": {},
   "outputs": [
    {
     "data": {
      "image/png": "[encoded data removed]",
      "text/plain": [
       "<Figure size 432x288 with 1 Axes>"
      ]
     },
     "metadata": {
      "needs_background": "light"
     },
     "output_type": "display_data"
    }
   ],
   "source": [
    "cp_rut2 = cp_rutz(hs_cp2,cost_dv)   # Chi phí rút ngắn  \n",
    "#print(cp_rut2[:10:])\n",
    "\n",
    "lum2 = [1,3,6,7] #Thứ tự của đường Gantt ['Start', 'B', 'D', 'G', 'H', 'End'] theo thứ tự A,B,C,D,E,F,G,H  \n",
    "tg_rut2 = [i+1 for i in tg_rutz(hs_cp2,lum2)] # Thời gian rút ngắn công 1 do chêch 15-14\n",
    "#print(tg_rut2[:10:])\n",
    "\n",
    "# Vẽ đồ thị dotplot để khảo sát mối tương quan\n",
    "import matplotlib.pyplot as plt\n",
    "plt.title(\"Mối tương quan thời gian và chi phí\")\n",
    "plt.scatter(tg_rut2,cp_rut2)\n",
    "plt.xlabel(\"Tuần\")\n",
    "plt.ylabel(\"$\")\n",
    "plt.show()"
   ]
  },
  {
   "cell_type": "markdown",
   "metadata": {},
   "source": [
    "<u>*Lọc ra chi phí min ứng với các mốc thời gian tương ứng*</u>"
   ]
  },
  {
   "cell_type": "code",
   "execution_count": 17,
   "metadata": {},
   "outputs": [
    {
     "name": "stdout",
     "output_type": "stream",
     "text": [
      "Chi phí min: [1000.0, 3000.0, 5000.0, 7000.0, 9000.0, 12000.0, 15000.0, 18000.0]\n"
     ]
    }
   ],
   "source": [
    "tg_list2 = list(range(min(tg_rut2),max(tg_rut2)+1))\n",
    "#print(tg_list2)\n",
    "\n",
    "cp_min_list2 = FindMin(tg_list2,tg_rut2,cp_rut2) #List [index của hs_cp, chi phí min]\n",
    "#print(cp_min_list2)\n",
    "\n",
    "cp_min2 = [cp_min_list2[i][1] for i in range(len(cp_min_list2))] # Trích xuất chi phí min từ list trên\n",
    "#print(cp_min)\n",
    "print(\"Chi phí min: \"+str(cp_min2))\n"
   ]
  },
  {
   "cell_type": "markdown",
   "metadata": {},
   "source": [
    "<u>*Từ các giá trị chi phí min xem số lần lặp của mỗi chi phí min ở các mốc thời gian.*</u>"
   ]
  },
  {
   "cell_type": "code",
   "execution_count": 18,
   "metadata": {},
   "outputs": [
    {
     "name": "stdout",
     "output_type": "stream",
     "text": [
      "Số lần lặp của giá trị min: [3, 7, 7, 7, 4, 7, 4, 1]\n"
     ]
    }
   ],
   "source": [
    "dem2 = [] # Đếm xem mỗi trường hợp min xuất hiện bao nhiêu lần trong mốc thời gian của nó\n",
    "index_min_lap2 = [] # Index của các lần lặp\n",
    "for i in range(len(cp_min2)): \n",
    "    index_min_lap2.append(TruyXuat(cp_min2[i],i+1,cp_rut2,tg_rut2)) #Cộng 1 do chênh 15-14\n",
    "    dem2.append(len(TruyXuat(cp_min2[i],i+1,cp_rut2,tg_rut2)))\n",
    "\n",
    "print(\"Số lần lặp của giá trị min: \"+str(dem2))\n",
    "\n",
    "index_min_lapstr2 = [list(map(str,i)) for i in index_min_lap2] #Chuyển list of list int sang list of list string\n",
    "#print(index_min_lapstr)\n",
    "\n",
    "index_min_laps2 = [\",\".join(i) for i in index_min_lapstr2] #Chuyển list string thành các string\n",
    "#print(\"Index tương ứng: \"+str(index_min_laps2))"
   ]
  },
  {
   "cell_type": "markdown",
   "metadata": {},
   "source": [
    "<u>*Biểu diễn mối tương quan giữa thời gian và chi phí*</u>"
   ]
  },
  {
   "cell_type": "code",
   "execution_count": 19,
   "metadata": {},
   "outputs": [
    {
     "data": {
      "image/png": "[encoded data removed]",
      "text/plain": [
       "<Figure size 432x288 with 1 Axes>"
      ]
     },
     "metadata": {
      "needs_background": "light"
     },
     "output_type": "display_data"
    },
    {
     "name": "stdout",
     "output_type": "stream",
     "text": [
      "   Thời gian rút ngắn (tuần)  Chi phí rút ngắn ($)  Số cách rút ngắn\n",
      "0                          1                1000.0                 3\n",
      "1                          2                3000.0                 7\n",
      "2                          3                5000.0                 7\n",
      "3                          4                7000.0                 7\n",
      "4                          5                9000.0                 4\n",
      "5                          6               12000.0                 7\n",
      "6                          7               15000.0                 4\n",
      "7                          8               18000.0                 1\n"
     ]
    }
   ],
   "source": [
    "index_min2 = [cp_min_list2[i][0] for i in range(len(cp_min_list2))] # Trích xuất index của chi phí min từ list trên\n",
    "#print(index_min)\n",
    "\n",
    "#Thực hiện vẽ lại đồ thị với chi phí đã lọc\n",
    "plt.title(\"Mối tương quan thời gian và chi phí\")\n",
    "plt.scatter(tg_list2,cp_min2,color = [\"orange\"])\n",
    "plt.xlabel(\"Tuần\")\n",
    "plt.ylabel(\"$\")\n",
    "plt.show()\n",
    "\n",
    "#Xuất bảng giá trị thời gian rút gọn và chi phí tối thiểu\n",
    "data_gantt2 = pd.DataFrame(list(zip(tg_list2,cp_min2,dem2)),columns=[\"Thời gian rút ngắn (tuần)\",\"Chi phí rút ngắn ($)\",\"Số cách rút ngắn\"])\n",
    "print(data_gantt2)"
   ]
  },
  {
   "cell_type": "markdown",
   "metadata": {},
   "source": [
    "### Bước 5: Đánh giá, tổng kết kết quả\n",
    "Nhận thấy rằng chi phí rút ngắn tương ứng với mốc thời gian của trường hợp 1 và trường hợp 3 khác nhau ở mốc rút ngắn thời gian 6 và 7 tuần. Tiến hành kiểm tra index_min của hai trường hợp. "
   ]
  },
  {
   "cell_type": "code",
   "execution_count": 20,
   "metadata": {},
   "outputs": [
    {
     "name": "stdout",
     "output_type": "stream",
     "text": [
      "Index_min trường hợp 1: ['0', '1,6,23', '18,32,37,46,109,114,131', '126,140,145,154,217,222,239', '234,248,253,262,325,330,347', '342,356,361,370', '363,372,375,774,788,793,802', '377,795,804,807', '809']\n",
      "Index_min trường hợp 3: ['0,1,5', '4,13,14,28,72,73,77', '76,85,86,100,144,145,149', '148,157,158,172,216,217,221', '220,229,230,244', '232,246,249,508,517,518,532', '251,520,534,537', '539']\n"
     ]
    }
   ],
   "source": [
    "print(\"Index_min trường hợp 1: \"+str(index_min_laps))\n",
    "print(\"Index_min trường hợp 3: \"+str(index_min_laps2))"
   ]
  },
  {
   "cell_type": "markdown",
   "metadata": {},
   "source": [
    "Nhận thấy rằng có sự khác nhau giữa hai index_min của hai trường hợp. Tiến hành truy xuất cách thức rút ngắn của các trường hợp tương ứng với các index. "
   ]
  },
  {
   "cell_type": "code",
   "execution_count": 24,
   "metadata": {},
   "outputs": [
    {
     "name": "stdout",
     "output_type": "stream",
     "text": [
      "   Tg rút (tuần)           Gantt 1           Gantt 3\n",
      "0              0  0a0b0c0d0e0f0g0h                  \n",
      "1              1  1a0b0c0d0e0f0g0h  1a0b0c0d0e0f0g0h\n",
      "2                 0a0b1c0d0e0f0g0h  0a0b1c0d0e0f0g0h\n",
      "3                 0a0b0c0d1e0f0g0h  0a0b0c0d1e0f0g0h\n",
      "4              2  1a0b1c1d0e0f0g0h  1a0b1c1d0e0f0g0h\n",
      "5                 1a0b0c1d1e0f0g0h  1a0b0c1d1e0f0g0h\n",
      "6                 0a0b1c1d1e0f0g0h  0a0b1c1d1e0f0g0h\n",
      "7                 0a0b0c1d2e0f0g0h  0a0b0c1d2e0f0g0h\n",
      "8                 1a0b0c0d0e0f1g0h  1a0b0c0d0e0f1g0h\n",
      "9                 0a0b1c0d0e0f1g0h  0a0b1c0d0e0f1g0h\n",
      "10                0a0b0c0d1e0f1g0h  0a0b0c0d1e0f1g0h\n",
      "11             3  1a0b1c1d0e0f1g0h  1a0b1c1d0e0f1g0h\n",
      "12                1a0b0c1d1e0f1g0h  1a0b0c1d1e0f1g0h\n",
      "13                0a0b1c1d1e0f1g0h  0a0b1c1d1e0f1g0h\n",
      "14                0a0b0c1d2e0f1g0h  0a0b0c1d2e0f1g0h\n",
      "15                1a0b0c0d0e0f2g0h  1a0b0c0d0e0f2g0h\n",
      "16                0a0b1c0d0e0f2g0h  0a0b1c0d0e0f2g0h\n",
      "17                0a0b0c0d1e0f2g0h  0a0b0c0d1e0f2g0h\n",
      "18             4  1a0b1c1d0e0f2g0h  1a0b1c1d0e0f2g0h\n",
      "19                1a0b0c1d1e0f2g0h  1a0b0c1d1e0f2g0h\n",
      "20                0a0b1c1d1e0f2g0h  0a0b1c1d1e0f2g0h\n",
      "21                0a0b0c1d2e0f2g0h  0a0b0c1d2e0f2g0h\n",
      "22                1a0b0c0d0e0f3g0h  1a0b0c0d0e0f3g0h\n",
      "23                0a0b1c0d0e0f3g0h  0a0b1c0d0e0f3g0h\n",
      "24                0a0b0c0d1e0f3g0h  0a0b0c0d1e0f3g0h\n",
      "25             5  1a0b1c1d0e0f3g0h  1a0b1c1d0e0f3g0h\n",
      "26                1a0b0c1d1e0f3g0h  1a0b0c1d1e0f3g0h\n",
      "27                0a0b1c1d1e0f3g0h  0a0b1c1d1e0f3g0h\n",
      "28                0a0b0c1d2e0f3g0h  0a0b0c1d2e0f3g0h\n",
      "29             6  1a1b1c1d1e0f3g0h  1a1b1c1d1e0f3g0h\n",
      "30                1a1b0c1d2e0f3g0h  1a1b0c1d2e0f3g0h\n",
      "31                0a1b1c1d2e0f3g0h  0a1b1c1d2e0f3g0h\n",
      "32                1a0b1c1d0e0f3g1h  1a0b1c1d0e0f3g1h\n",
      "33                1a0b0c1d1e0f3g1h  1a0b0c1d1e0f3g1h\n",
      "34                0a0b1c1d1e0f3g1h  0a0b1c1d1e0f3g1h\n",
      "35                0a0b0c1d2e0f3g1h  0a0b0c1d2e0f3g1h\n",
      "36             7  1a2b1c1d2e0f3g0h  1a2b1c1d2e0f3g0h\n",
      "37                1a1b1c1d1e0f3g1h  1a1b1c1d1e0f3g1h\n",
      "38                1a1b0c1d2e0f3g1h  1a1b0c1d2e0f3g1h\n",
      "39                0a1b1c1d2e0f3g1h  0a1b1c1d2e0f3g1h\n",
      "40             8  1a2b1c1d2e0f3g1h  1a2b1c1d2e0f3g1h\n"
     ]
    }
   ],
   "source": [
    "hs_final1 = list(map(lambda x: list(map(lambda y: hs_cp[y], x)), index_min_lap))\n",
    "#print(hs_final1)\n",
    "\n",
    "hs_final2 = list(map(lambda x: list(map(lambda y: hs_cp2[y], x)), index_min_lap2))\n",
    "#print(hs_final2)\n",
    "\n",
    "def ShowTGR(list, biens):\n",
    "    inter = [val for pair in zip(list,biens) for val in pair] #Đan xen hai list thành list mới\n",
    "    #print(inter)\n",
    "\n",
    "    rs = listToStr = ''.join(map(str, inter)) # Chuyển list thành string\n",
    "    #print(rs)\n",
    "    return rs\n",
    "\n",
    "#Chuyển list cách thức thành dạng string\n",
    "Final_Time1 = list(map(lambda x: list(map(lambda y: ShowTGR(y,biens), x)), hs_final1))\n",
    "#print(Final_Time1)\n",
    "\n",
    "Final_Time2 = list(map(lambda x: list(map(lambda y: ShowTGR(y,biens), x)), hs_final2))\n",
    "#print(Final_Time2)\n",
    "\n",
    "#Biểu diễn các cách thức dạng bảng\n",
    "max_row = [max(len(Final_Time1[i+1]),len(Final_Time2[i])) for i in range(len(Final_Time2))]\n",
    "max_row = [len(Final_Time1[0])] + max_row\n",
    "#print(max_row) \n",
    "\n",
    "##Tạo index bằng cách thêm khoảng trống\n",
    "index_ct = []\n",
    "for i in range(len(max_row)):\n",
    "    index_ct.append(i)\n",
    "    index_ct.extend((max_row[i]-1)*[\"\"])\n",
    "#print(index_ct)\n",
    "##Chuyển list of list thành list\n",
    "Final_Time1s = []  # Điều chỉnh khoảng trống của list cách thức\n",
    "Final_Time2s = [] \n",
    "for i in range(len(max_row)):\n",
    "    Final_Time1s.append(Final_Time1[i]+list((max_row[i]-len(Final_Time1[i]))*[\"\"]))\n",
    "#print(Final_Time1s)\n",
    "\n",
    "for i in range(len(Final_Time2)):\n",
    "    Final_Time2s.append(Final_Time2[i]+list((max_row[i+1]-len(Final_Time2[i]))*[\"\"]))\n",
    "\n",
    "#print(Final_Time2s)\n",
    "\n",
    "def flatten(l): #Chuyên list of lists thành list\n",
    "    return [item for sublist in l for item in sublist]\n",
    "\n",
    "Final_Time1ss = flatten(Final_Time1s)\n",
    "#print(Final_Time1s)\n",
    "Final_Time2ss = flatten(Final_Time2s)\n",
    "Final_Time2ss.insert(0,\"\")\n",
    "#print(Final_Time2ss)\n",
    "\n",
    "##Xuất ra bảng\n",
    "data_ct = pd.DataFrame(list(zip(index_ct,Final_Time1ss,Final_Time2ss)),columns=[\"Tg rút (tuần)\",\"Gantt 1\",\"Gantt 3\"])\n",
    "print(data_ct)"
   ]
  },
  {
   "cell_type": "markdown",
   "metadata": {},
   "source": [
    ">**Kết quả phân tích cho thấy:**\n",
    " > - Các cách thức tối của hai trường hợp giống nhau ở các mốc thời gian.\n",
    " > - Có thể nói thời gian và chi phí giảm thiểu tối ưu đạt được khi cả đường 1 và đường 3 cùng là được Gantt"
   ]
  },
  {
   "cell_type": "code",
   "execution_count": 22,
   "metadata": {},
   "outputs": [
    {
     "data": {
      "image/png": "[encoded data removed]",
      "text/plain": [
       "<Figure size 432x288 with 1 Axes>"
      ]
     },
     "metadata": {
      "needs_background": "light"
     },
     "output_type": "display_data"
    },
    {
     "name": "stdout",
     "output_type": "stream",
     "text": [
      "   Tg rút (tuần)  Cp rút ($) Gantt\n",
      "0              0         0.0     1\n",
      "1              1      1000.0     1\n",
      "2              2      3000.0     1\n",
      "3              3      5000.0     1\n",
      "4              4      7000.0     1\n",
      "5              5      9000.0     1\n",
      "6              6     12000.0     1\n",
      "7              7     15000.0     1\n",
      "8              8     18000.0     1\n"
     ]
    }
   ],
   "source": [
    "#Đường Găng\n",
    "gantt_final = [\"1\",\"1\",\"1\",\"1\",\"1\",\"1\",\"1\",\"1\",\"1\"]\n",
    "\n",
    "#Thực hiện vẽ lại đồ thị với chi phí đã lọc\n",
    "plt.title(\"Mối tương quan thời gian và chi phí\")\n",
    "plt.scatter(tg_list,cp_min)\n",
    "plt.scatter(tg_list2,cp_min2)\n",
    "plt.xlabel(\"Tuần\")\n",
    "plt.ylabel(\"$\")\n",
    "plt.legend([\"Gantt 1\",\"Gantt 3\"])\n",
    "plt.show()\n",
    "\n",
    "#Xuất bảng giá trị thời gian rút gọn và chi phí tối thiểu\n",
    "data_gantt1 = pd.DataFrame(list(zip(tg_list,cp_min,gantt_final)),columns=[\"Tg rút (tuần)\",\"Cp rút ($)\",\"Gantt\"])\n",
    "print(data_gantt1)"
   ]
  },
  {
   "cell_type": "markdown",
   "metadata": {},
   "source": [
    "<u>**Ví dụ 1:**</u> <b>Muốn rút ngắn 6 tuần (tức tổng thời gian thực hiện là $15 - 6 = 9$ tuần) thì thực hiện rút ngắn tiến độ công việc như sau:</b>\n",
    "\n",
    "*Cách thức:* 0a1b1c1d2e0f3g0h\n",
    "- Công việc B giảm 1 tuần \n",
    "- Công việc C giảm 1 tuần\n",
    "- Công việc D giảm 1 tuần\n",
    "- Công việc E giảm 2 tuần\n",
    "- Công việc G giảm 3 tuần\n",
    "\n",
    "Với đường Gantt là đường 3 (Start-B-D-G-H-End) tương ứng thời gian giảm trên đường Gantt là $ 1(B)+1(D)+3(G) = 5 $ tuần &#8594; thời gian thực hiện 14 - 5 = 9 tuần  \n",
    "Với đường Gantt là đường 1 (Start-A-C-E-G-H-End) tương ứng thời gian giảm trên đường Gantt là $ 1(C)+2(E)+3(G) = 6 $ tuần. &#8594; thời gian thực hiện 15 - 6 = 9 tuần\n",
    "\n",
    "<b> &#8594; Tổng chi phí rút ngắn là $(B):1*2000 + (C):1*1000 + (D):1*1000 + (E):2*1000 + (G):3*2000  = 12.000$.</b>"
   ]
  }
 ],
 "metadata": {
  "kernelspec": {
   "display_name": "Python 3.9.7 64-bit",
   "language": "python",
   "name": "python3"
  },
  "language_info": {
   "codemirror_mode": {
    "name": "ipython",
    "version": 3
   },
   "file_extension": ".py",
   "mimetype": "text/x-python",
   "name": "python",
   "nbconvert_exporter": "python",
   "pygments_lexer": "ipython3",
   "version": "3.9.7"
  },
  "orig_nbformat": 4,
  "vscode": {
   "interpreter": {
    "hash": "e33dda8a4d12c9c36a233218a905238da2bb40652a11ab3365bb0fe0ea2bff9b"
   }
  }
 },
 "nbformat": 4,
 "nbformat_minor": 2
}
